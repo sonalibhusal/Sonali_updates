{
 "cells": [
  {
   "cell_type": "code",
   "execution_count": null,
   "id": "f2ba6175-c8be-42bf-bf42-b2251ace2340",
   "metadata": {},
   "outputs": [],
   "source": [
    "frozenset :\n",
    "      frozen -- fixed -- immutable form of set\n",
    "      unique collection of elements\n",
    "      unordered type DS\n",
    "\n",
    "\n",
    "\n",
    "Mutability:  set is mutable while frozenset is immutable. This means that we can add or remove elements from a set, but not from a frozenset.\n",
    "\n",
    "Memory usage: Since set is mutable, it requires more memory to store the elements as compared to frozenset,\n",
    "              which is immutable and requires less memory.\n",
    "    "
   ]
  },
  {
   "cell_type": "code",
   "execution_count": null,
   "id": "22882a62-6677-4818-8f08-bbd626782d71",
   "metadata": {},
   "outputs": [],
   "source": [
    "set       frozenset 99%\n",
    "\n",
    "mutable   immutable"
   ]
  },
  {
   "cell_type": "code",
   "execution_count": 1,
   "id": "588a9515-2232-446b-b147-feed666c0b99",
   "metadata": {},
   "outputs": [],
   "source": [
    "p1 = frozenset({12,65,86,34,87,45,76,45,'python',76,34,76,47,6})"
   ]
  },
  {
   "cell_type": "code",
   "execution_count": 2,
   "id": "173f4994-c615-4af9-a0db-603268b4b48d",
   "metadata": {},
   "outputs": [
    {
     "data": {
      "text/plain": [
       "frozenset({12, 34, 45, 47, 6, 65, 76, 86, 87, 'python'})"
      ]
     },
     "execution_count": 2,
     "metadata": {},
     "output_type": "execute_result"
    }
   ],
   "source": [
    "p1"
   ]
  },
  {
   "cell_type": "code",
   "execution_count": 3,
   "id": "04a76faa-bdf2-46d9-866d-4774b3437a59",
   "metadata": {},
   "outputs": [
    {
     "ename": "TypeError",
     "evalue": "'frozenset' object is not subscriptable",
     "output_type": "error",
     "traceback": [
      "\u001b[1;31m---------------------------------------------------------------------------\u001b[0m",
      "\u001b[1;31mTypeError\u001b[0m                                 Traceback (most recent call last)",
      "Cell \u001b[1;32mIn[3], line 1\u001b[0m\n\u001b[1;32m----> 1\u001b[0m p1[\u001b[38;5;241m0\u001b[39m]\n",
      "\u001b[1;31mTypeError\u001b[0m: 'frozenset' object is not subscriptable"
     ]
    }
   ],
   "source": [
    "p1[0]"
   ]
  },
  {
   "cell_type": "code",
   "execution_count": null,
   "id": "65c3ac2f-ae59-4656-8b13-464632dc35d3",
   "metadata": {},
   "outputs": [],
   "source": [
    "set :\n",
    "    add\n",
    "    update\n",
    "    remove\n",
    "    discard\n",
    "    pop\n",
    "    clear\n"
   ]
  },
  {
   "cell_type": "code",
   "execution_count": 5,
   "id": "0e9ce513-ad30-4f51-b076-db7bd8fec5f8",
   "metadata": {},
   "outputs": [
    {
     "data": {
      "text/plain": [
       "frozenset({12, 34, 45, 47, 6, 65, 76, 86, 87, 'python'})"
      ]
     },
     "execution_count": 5,
     "metadata": {},
     "output_type": "execute_result"
    }
   ],
   "source": [
    "p1"
   ]
  },
  {
   "cell_type": "code",
   "execution_count": 6,
   "id": "ce2b8d44-9c04-496e-bead-72d12069cfdb",
   "metadata": {},
   "outputs": [],
   "source": [
    "p2 = frozenset({54,23,7632,786,345,765,12,765,3,675,34,46,46})"
   ]
  },
  {
   "cell_type": "code",
   "execution_count": 7,
   "id": "6c47b03f-a38d-42c8-850c-40ff395d13ac",
   "metadata": {},
   "outputs": [
    {
     "data": {
      "text/plain": [
       "frozenset({3, 12, 23, 34, 46, 54, 345, 675, 765, 786, 7632})"
      ]
     },
     "execution_count": 7,
     "metadata": {},
     "output_type": "execute_result"
    }
   ],
   "source": [
    "p2"
   ]
  },
  {
   "cell_type": "code",
   "execution_count": 8,
   "id": "b41e219c-30b5-4004-9561-a099be3c8c1c",
   "metadata": {},
   "outputs": [
    {
     "data": {
      "text/plain": [
       "frozenset({12,\n",
       "           23,\n",
       "           3,\n",
       "           34,\n",
       "           345,\n",
       "           45,\n",
       "           46,\n",
       "           47,\n",
       "           54,\n",
       "           6,\n",
       "           65,\n",
       "           675,\n",
       "           76,\n",
       "           7632,\n",
       "           765,\n",
       "           786,\n",
       "           86,\n",
       "           87,\n",
       "           'python'})"
      ]
     },
     "execution_count": 8,
     "metadata": {},
     "output_type": "execute_result"
    }
   ],
   "source": [
    "p1.union(p2)"
   ]
  },
  {
   "cell_type": "code",
   "execution_count": 9,
   "id": "f8de6bb3-954a-42d8-b1a8-0a29695d4791",
   "metadata": {},
   "outputs": [
    {
     "data": {
      "text/plain": [
       "frozenset({12, 34})"
      ]
     },
     "execution_count": 9,
     "metadata": {},
     "output_type": "execute_result"
    }
   ],
   "source": [
    "p1.intersection(p2)"
   ]
  },
  {
   "cell_type": "code",
   "execution_count": 10,
   "id": "c901fa42-58c0-4a0c-8098-dda9ebec8f0a",
   "metadata": {},
   "outputs": [
    {
     "data": {
      "text/plain": [
       "frozenset({23,\n",
       "           3,\n",
       "           345,\n",
       "           45,\n",
       "           46,\n",
       "           47,\n",
       "           54,\n",
       "           6,\n",
       "           65,\n",
       "           675,\n",
       "           76,\n",
       "           7632,\n",
       "           765,\n",
       "           786,\n",
       "           86,\n",
       "           87,\n",
       "           'python'})"
      ]
     },
     "execution_count": 10,
     "metadata": {},
     "output_type": "execute_result"
    }
   ],
   "source": [
    "p1.symmetric_difference(p2)"
   ]
  },
  {
   "cell_type": "code",
   "execution_count": 11,
   "id": "cbee0259-df7f-4c17-aa9e-0c237da12536",
   "metadata": {},
   "outputs": [
    {
     "data": {
      "text/plain": [
       "frozenset({45, 47, 6, 65, 76, 86, 87, 'python'})"
      ]
     },
     "execution_count": 11,
     "metadata": {},
     "output_type": "execute_result"
    }
   ],
   "source": [
    "p1.difference(p2)"
   ]
  },
  {
   "cell_type": "code",
   "execution_count": null,
   "id": "5493d258-2589-469e-be9f-13d39d7c8201",
   "metadata": {},
   "outputs": [],
   "source": [
    "requirements:\n",
    "    elements :\n",
    "        store --> it should not be changed --> tuple\n",
    "        element -- new element remove update --> list\n",
    "        element with tag -- dict\n",
    "        elements just want unique elements --> set\n",
    "        elements just want unique elements should not be changed - frozenset"
   ]
  },
  {
   "cell_type": "code",
   "execution_count": 2,
   "id": "0b3f2781-8b19-4548-96be-841c53e2816e",
   "metadata": {},
   "outputs": [
    {
     "name": "stdout",
     "output_type": "stream",
     "text": [
      "frozenset({'banana', 'cherry', 'apple'})\n"
     ]
    }
   ],
   "source": [
    "mylist = ['apple', 'banana', 'cherry']\n",
    "x = frozenset(mylist)\n",
    "print(x)\n"
   ]
  },
  {
   "cell_type": "code",
   "execution_count": 6,
   "id": "b17559c2-db44-4ff7-8114-043ca6fad31d",
   "metadata": {},
   "outputs": [
    {
     "name": "stdout",
     "output_type": "stream",
     "text": [
      "frozenset({'hd', 'dysd', 23})\n"
     ]
    }
   ],
   "source": [
    "n = ['hd',23,'dysd']\n",
    "y= frozenset(n)\n",
    "print(y)"
   ]
  },
  {
   "cell_type": "code",
   "execution_count": 9,
   "id": "ef51fccc-a60b-44f3-9948-f3b2ddd65626",
   "metadata": {},
   "outputs": [
    {
     "data": {
      "text/plain": [
       "frozenset({76, 'dysd', 'qwydgw'})"
      ]
     },
     "execution_count": 9,
     "metadata": {},
     "output_type": "execute_result"
    }
   ],
   "source": [
    "gt =('dysd',76,'qwydgw')\n",
    "frozenset(gt)"
   ]
  },
  {
   "cell_type": "code",
   "execution_count": 11,
   "id": "37c18ce0-f25e-4ed8-b412-3e6ab886bbbf",
   "metadata": {},
   "outputs": [
    {
     "name": "stdout",
     "output_type": "stream",
     "text": [
      "frozenset({97, 'dt7wgd', 87})\n"
     ]
    }
   ],
   "source": [
    "m1 ={87,97,'dt7wgd'}\n",
    "t=frozenset(m1)\n",
    "print(t)"
   ]
  },
  {
   "cell_type": "code",
   "execution_count": 1,
   "id": "35ddbeda-398f-4616-8600-b6a6c2b2bbc7",
   "metadata": {},
   "outputs": [],
   "source": [
    "p=[14,451,25,45,24,14,64,78,45,464,45,65,47,45]"
   ]
  },
  {
   "cell_type": "code",
   "execution_count": 3,
   "id": "92eeed2b-5554-46c8-b1ad-2f9431f976ed",
   "metadata": {},
   "outputs": [
    {
     "name": "stdout",
     "output_type": "stream",
     "text": [
      "[14, 24, 14, 64, 78, 464]\n"
     ]
    }
   ],
   "source": [
    "even=[]\n",
    "for i in p:\n",
    "    if i%2==0:\n",
    "        even.append(i)\n",
    "print(even)"
   ]
  },
  {
   "cell_type": "code",
   "execution_count": 4,
   "id": "bcc4da90-39b3-4252-a846-830e4c1725b0",
   "metadata": {},
   "outputs": [
    {
     "data": {
      "text/plain": [
       "[14, 24, 14, 64, 78, 464]"
      ]
     },
     "execution_count": 4,
     "metadata": {},
     "output_type": "execute_result"
    }
   ],
   "source": [
    "[i for i in p if i%2==0]"
   ]
  },
  {
   "cell_type": "code",
   "execution_count": 7,
   "id": "ba21b6fc-dd4a-473f-a1bd-f0eed5ac1d4c",
   "metadata": {},
   "outputs": [
    {
     "ename": "SyntaxError",
     "evalue": "invalid syntax (4279090115.py, line 1)",
     "output_type": "error",
     "traceback": [
      "\u001b[1;36m  Cell \u001b[1;32mIn[7], line 1\u001b[1;36m\u001b[0m\n\u001b[1;33m    i for i in p if i**2=0\u001b[0m\n\u001b[1;37m      ^\u001b[0m\n\u001b[1;31mSyntaxError\u001b[0m\u001b[1;31m:\u001b[0m invalid syntax\n"
     ]
    }
   ],
   "source": [
    "i for i in p if i**2=0"
   ]
  },
  {
   "cell_type": "code",
   "execution_count": 13,
   "id": "7dcab9e9-004f-47b6-93b3-b8e388ab29e2",
   "metadata": {},
   "outputs": [
    {
     "name": "stdout",
     "output_type": "stream",
     "text": [
      "[[0, 1, 4, 9, 16, 25, 36, 49, 64, 81, 100]]\n",
      "[[0, 1, 4, 9, 16, 25, 36, 49, 64, 81, 100]]\n",
      "[[0, 1, 4, 9, 16, 25, 36, 49, 64, 81, 100]]\n"
     ]
    }
   ],
   "source": [
    "def squares(start,end):\n",
    "    squares = [value ** 2 for value in range(0, 11)]\n",
    "    return [squares]\n",
    "\n",
    "print(squares(2, 3))  \n",
    "print(squares(1, 5))  \n",
    "print(squares(0, 10))  "
   ]
  },
  {
   "cell_type": "code",
   "execution_count": 22,
   "id": "ec123799-8c8f-4dbe-a35a-24f3e09ca364",
   "metadata": {},
   "outputs": [],
   "source": [
    "emails=['user@gmail.com','python@gmail.com','sonali@rediffmail.com']"
   ]
  },
  {
   "cell_type": "code",
   "execution_count": 21,
   "id": "816a1ab2-e2f4-40da-8dce-d501909a2fa0",
   "metadata": {},
   "outputs": [
    {
     "data": {
      "text/plain": [
       "['user', 'python', 'sonali']"
      ]
     },
     "execution_count": 21,
     "metadata": {},
     "output_type": "execute_result"
    }
   ],
   "source": [
    "[email.split('@')[0] for email in emails]"
   ]
  },
  {
   "cell_type": "code",
   "execution_count": 32,
   "id": "5c5bed5e-08f1-4cce-93dc-755bc948b500",
   "metadata": {},
   "outputs": [
    {
     "data": {
      "text/plain": [
       "['user', 'python', 'sonali']"
      ]
     },
     "execution_count": 32,
     "metadata": {},
     "output_type": "execute_result"
    }
   ],
   "source": [
    "[email.split('@')[0]for email in emails]"
   ]
  },
  {
   "cell_type": "code",
   "execution_count": 33,
   "id": "859fa5a0-3a39-4ce6-8cc6-2eee01f20417",
   "metadata": {},
   "outputs": [
    {
     "data": {
      "text/plain": [
       "[['c', 'gamil'], ['java', 'gmail'], ['pyspark', 'gmail']]"
      ]
     },
     "execution_count": 33,
     "metadata": {},
     "output_type": "execute_result"
    }
   ],
   "source": [
    "emails=['c@gamil.com','java@gmail.com','pyspark@gmail.com']\n",
    "[[i.split('@')[0],i.split('@')[1].split('.')[0] ]for i in emails]"
   ]
  },
  {
   "cell_type": "code",
   "execution_count": 38,
   "id": "f4d34cb5-608a-4ce1-af74-4dbfb7235a66",
   "metadata": {},
   "outputs": [
    {
     "data": {
      "text/plain": [
       "[['c', 'gamil'], ['java', 'gmail'], ['pyspark', 'gmail']]"
      ]
     },
     "execution_count": 38,
     "metadata": {},
     "output_type": "execute_result"
    }
   ],
   "source": [
    "[[i.split('@')[0],i.split('@')[1].split('.')[0]]for i in emails]"
   ]
  },
  {
   "cell_type": "code",
   "execution_count": 40,
   "id": "acca876f-51bb-44a4-9cdb-3a12a0c48c76",
   "metadata": {},
   "outputs": [
    {
     "data": {
      "text/plain": [
       "['t', 'h', 'i', 's', ' ', 'i', 's']"
      ]
     },
     "execution_count": 40,
     "metadata": {},
     "output_type": "execute_result"
    }
   ],
   "source": [
    "a='this is'\n",
    "[i for i in a]"
   ]
  },
  {
   "cell_type": "code",
   "execution_count": 43,
   "id": "a057a9af-6b65-453b-9f9e-c0e1f30e5a7e",
   "metadata": {},
   "outputs": [],
   "source": [
    "words=['python','java','testing','pyspark','loan']"
   ]
  },
  {
   "cell_type": "code",
   "execution_count": 45,
   "id": "05330fce-154d-4452-be9d-7d44e93f6d03",
   "metadata": {},
   "outputs": [
    {
     "data": {
      "text/plain": [
       "['python', 'testing', 'pyspark']"
      ]
     },
     "execution_count": 45,
     "metadata": {},
     "output_type": "execute_result"
    }
   ],
   "source": [
    "[i for i in words if len(i)>5]"
   ]
  },
  {
   "cell_type": "code",
   "execution_count": null,
   "id": "4455c289-f56d-46c9-ba82-25efeb5feda9",
   "metadata": {},
   "outputs": [],
   "source": []
  }
 ],
 "metadata": {
  "kernelspec": {
   "display_name": "Python 3 (ipykernel)",
   "language": "python",
   "name": "python3"
  },
  "language_info": {
   "codemirror_mode": {
    "name": "ipython",
    "version": 3
   },
   "file_extension": ".py",
   "mimetype": "text/x-python",
   "name": "python",
   "nbconvert_exporter": "python",
   "pygments_lexer": "ipython3",
   "version": "3.11.7"
  }
 },
 "nbformat": 4,
 "nbformat_minor": 5
}
