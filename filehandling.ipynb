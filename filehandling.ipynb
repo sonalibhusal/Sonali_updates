{
 "cells": [
  {
   "cell_type": "code",
   "execution_count": 2,
   "id": "6aae9dbd-5a9b-4c27-8a8c-1b717a017065",
   "metadata": {},
   "outputs": [
    {
     "data": {
      "text/plain": [
       "162"
      ]
     },
     "execution_count": 2,
     "metadata": {},
     "output_type": "execute_result"
    }
   ],
   "source": [
    "data='''Over 60 years of serving the railroad industry with the\n",
    "most advanced technologies, the most reliable and productive maintenance \n",
    "of way equipment and the expert '''\n",
    "fp=open(\"emp.text\",\"w\")\n",
    "fp.write(data)"
   ]
  },
  {
   "cell_type": "code",
   "execution_count": 4,
   "id": "b0e9201e-384c-486f-9b18-3f29c48c167f",
   "metadata": {},
   "outputs": [
    {
     "data": {
      "text/plain": [
       "5"
      ]
     },
     "execution_count": 4,
     "metadata": {},
     "output_type": "execute_result"
    }
   ],
   "source": [
    "fp=open(\"emp.txt\",\"w\")\n",
    "fp.write(\"Hello\")"
   ]
  },
  {
   "cell_type": "code",
   "execution_count": 2,
   "id": "644517a2-922f-422f-8ea1-bebbcfa39694",
   "metadata": {},
   "outputs": [],
   "source": [
    "fp=open(\"1.txt\",\"w\")\n",
    "data1=['1.firstline\\n','2.secondline\\n','3.thirdline\\n']\n",
    "fp.writelines(data1)"
   ]
  },
  {
   "cell_type": "code",
   "execution_count": 29,
   "id": "f7f942ee-6a11-4dc8-a695-5118a90a7805",
   "metadata": {},
   "outputs": [
    {
     "name": "stdout",
     "output_type": "stream",
     "text": [
      "old_data: dghdcnbdjcdnkauyiksmndlddghdcnbdjcdnkauyiksmndlddghdcnbdjcdnkauyiksmndlddghdcnbdjcdnkauyiksmndlddghdcnbdjcdnkauyiksmndlddghdcnbdjcdnkauyiksmndlddghdcnbdjcdnkauyiksmndlddghdcnbdjcdnkauyiksmndlddghdcnbdjcdnkauyiksmndlddghdcnbdjcdnkauyiksmndld\n",
      "new_data: example of file handaling a+mode\n"
     ]
    }
   ],
   "source": [
    "with open('demo.txt','a+') as fp:\n",
    "    temp=fp.tell()\n",
    "    fp.write(\"example of file handaling a+mode\")\n",
    "    fp.seek(temp)\n",
    "    new_data=fp.read()\n",
    "    fp.seek(0)\n",
    "    old_data = fp.read(temp)\n",
    "    print(\"old_data:\",old_data)\n",
    "    print(\"new_data:\",new_data)\n",
    "    "
   ]
  },
  {
   "cell_type": "code",
   "execution_count": 7,
   "id": "a56b16d4-d87e-4f77-a3b5-7b80935ddb2e",
   "metadata": {},
   "outputs": [],
   "source": [
    "product_details={\n",
    "    'id':104,\n",
    "    'prdname':'loan-product',\n",
    "    'product':'loan',\n",
    "    'isanyoption':False,\n",
    "    'isanydeaultvalu':None\n",
    "}"
   ]
  },
  {
   "cell_type": "code",
   "execution_count": 8,
   "id": "7c3d0209-1c70-4b7f-848a-9f01b86446fe",
   "metadata": {},
   "outputs": [
    {
     "data": {
      "text/plain": [
       "{'id': 104,\n",
       " 'prdname': 'loan-product',\n",
       " 'product': 'loan',\n",
       " 'isanyoption': False,\n",
       " 'isanydeaultvalu': None}"
      ]
     },
     "execution_count": 8,
     "metadata": {},
     "output_type": "execute_result"
    }
   ],
   "source": [
    "product_details"
   ]
  },
  {
   "cell_type": "code",
   "execution_count": 9,
   "id": "3f9ec582-d9cf-48cf-8704-d3077b1cae48",
   "metadata": {},
   "outputs": [],
   "source": [
    "import json"
   ]
  },
  {
   "cell_type": "code",
   "execution_count": 10,
   "id": "f86c8d6c-192a-4aa7-ac30-2e0a8b6f523a",
   "metadata": {},
   "outputs": [],
   "source": [
    "js=json.dumps(product_details)"
   ]
  },
  {
   "cell_type": "code",
   "execution_count": 11,
   "id": "72da8b45-10b9-48e7-b3ff-b6c4917983b4",
   "metadata": {},
   "outputs": [
    {
     "data": {
      "text/plain": [
       "'{\"id\": 104, \"prdname\": \"loan-product\", \"product\": \"loan\", \"isanyoption\": false, \"isanydeaultvalu\": null}'"
      ]
     },
     "execution_count": 11,
     "metadata": {},
     "output_type": "execute_result"
    }
   ],
   "source": [
    "js"
   ]
  },
  {
   "cell_type": "code",
   "execution_count": 12,
   "id": "aa3c11d2-483e-4643-9196-42d2b18f9e8b",
   "metadata": {},
   "outputs": [
    {
     "data": {
      "text/plain": [
       "'C:\\\\Users\\\\Admin'"
      ]
     },
     "execution_count": 12,
     "metadata": {},
     "output_type": "execute_result"
    }
   ],
   "source": [
    "pwd"
   ]
  },
  {
   "cell_type": "code",
   "execution_count": 13,
   "id": "7d7d9456-1b42-4a98-9d46-129e1a8043b2",
   "metadata": {},
   "outputs": [],
   "source": [
    "import json"
   ]
  },
  {
   "cell_type": "code",
   "execution_count": 14,
   "id": "cd4f8665-9148-4f00-b80e-a23a09ce2aa5",
   "metadata": {},
   "outputs": [
    {
     "name": "stdout",
     "output_type": "stream",
     "text": [
      "json file created successfully\n"
     ]
    }
   ],
   "source": [
    "with open(\"product.json\",\"w\") as fp:\n",
    "    json.dump(product_details,fp)\n",
    "    print(\"json file created successfully\")"
   ]
  },
  {
   "cell_type": "code",
   "execution_count": 15,
   "id": "48b88ee3-ba1d-4821-a89f-24df822e5138",
   "metadata": {},
   "outputs": [
    {
     "data": {
      "text/plain": [
       "'{\"id\": 104, \"prdname\": \"loan-product\", \"product\": \"loan\", \"isanyoption\": false, \"isanydeaultvalu\": null}'"
      ]
     },
     "execution_count": 15,
     "metadata": {},
     "output_type": "execute_result"
    }
   ],
   "source": [
    "js"
   ]
  },
  {
   "cell_type": "code",
   "execution_count": 17,
   "id": "578dbedb-f078-442c-a166-c4d4d8526bbb",
   "metadata": {},
   "outputs": [],
   "source": [
    "d=json.loads(js)"
   ]
  },
  {
   "cell_type": "code",
   "execution_count": 18,
   "id": "39a220c7-52b2-42ef-93c3-d054daf8e346",
   "metadata": {},
   "outputs": [
    {
     "data": {
      "text/plain": [
       "'loan-product'"
      ]
     },
     "execution_count": 18,
     "metadata": {},
     "output_type": "execute_result"
    }
   ],
   "source": [
    "d['prdname']"
   ]
  },
  {
   "cell_type": "code",
   "execution_count": 19,
   "id": "c31275a9-0ccf-4a16-b526-bee2886038b6",
   "metadata": {},
   "outputs": [
    {
     "name": "stdout",
     "output_type": "stream",
     "text": [
      "{'id': 104, 'prdname': 'loan-product', 'product': 'loan', 'isanyoption': False, 'isanydeaultvalu': None}\n"
     ]
    }
   ],
   "source": [
    "with open(\"product.json\",'r')as fp:\n",
    "    data=json.load(fp)\n",
    "    print(data)"
   ]
  },
  {
   "cell_type": "code",
   "execution_count": 29,
   "id": "9ce56bb3-f9a4-4656-93cf-1cfe28815c38",
   "metadata": {},
   "outputs": [],
   "source": [
    "import yaml"
   ]
  },
  {
   "cell_type": "code",
   "execution_count": 30,
   "id": "eb192564-abc1-4d0f-999f-f4c71e39f6d1",
   "metadata": {},
   "outputs": [
    {
     "name": "stdout",
     "output_type": "stream",
     "text": [
      "Requirement already satisfied: pyaml in c:\\python53\\lib\\site-packages (24.9.0)\n",
      "Requirement already satisfied: PyYAML in c:\\python53\\lib\\site-packages (from pyaml) (6.0.1)\n"
     ]
    }
   ],
   "source": [
    "!pip install pyaml"
   ]
  },
  {
   "cell_type": "code",
   "execution_count": 36,
   "id": "aec58f97-44ee-4632-a55f-8474fc66e8dc",
   "metadata": {},
   "outputs": [],
   "source": [
    "from pyaml import yaml"
   ]
  },
  {
   "cell_type": "code",
   "execution_count": 37,
   "id": "9a10369a-f1e1-4df2-9ede-99185eca44f0",
   "metadata": {},
   "outputs": [
    {
     "data": {
      "text/plain": [
       "{'id': 104,\n",
       " 'prdname': 'loan-product',\n",
       " 'product': 'loan',\n",
       " 'isanyoption': False,\n",
       " 'isanydeaultvalu': None}"
      ]
     },
     "execution_count": 37,
     "metadata": {},
     "output_type": "execute_result"
    }
   ],
   "source": [
    "product_details"
   ]
  },
  {
   "cell_type": "code",
   "execution_count": 38,
   "id": "a33e7a28-9450-4b84-8055-e17c8683320d",
   "metadata": {},
   "outputs": [],
   "source": [
    "with open(\"prddetail.yml\",'w')as fp:\n",
    "    yaml.dump(product_details,fp)"
   ]
  },
  {
   "cell_type": "code",
   "execution_count": null,
   "id": "64f7a094-14b6-4a7f-9532-cb9865e71533",
   "metadata": {},
   "outputs": [],
   "source": []
  },
  {
   "cell_type": "code",
   "execution_count": null,
   "id": "fc8f7310-6743-4d6d-9d7d-d9d122f07990",
   "metadata": {},
   "outputs": [],
   "source": []
  },
  {
   "cell_type": "code",
   "execution_count": null,
   "id": "84eb66cf-e054-423b-997e-01377e32d3b0",
   "metadata": {},
   "outputs": [],
   "source": [
    "\n"
   ]
  }
 ],
 "metadata": {
  "kernelspec": {
   "display_name": "Python 3 (ipykernel)",
   "language": "python",
   "name": "python3"
  },
  "language_info": {
   "codemirror_mode": {
    "name": "ipython",
    "version": 3
   },
   "file_extension": ".py",
   "mimetype": "text/x-python",
   "name": "python",
   "nbconvert_exporter": "python",
   "pygments_lexer": "ipython3",
   "version": "3.11.7"
  }
 },
 "nbformat": 4,
 "nbformat_minor": 5
}
